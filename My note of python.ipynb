{
 "cells": [
  {
   "cell_type": "markdown",
   "id": "3d106882-7a6f-4370-9f10-50837082dc0c",
   "metadata": {
    "tags": []
   },
   "source": [
    "### วันนี้เราเรียนรู้อะไรมาบ้าง\n",
    "\n",
    "### Docstring"
   ]
  },
  {
   "cell_type": "code",
   "execution_count": 45,
   "id": "83833fe5-e1c1-4635-8ea3-3c94fb974d0b",
   "metadata": {
    "tags": []
   },
   "outputs": [
    {
     "name": "stdout",
     "output_type": "stream",
     "text": [
      "สวัสดีครับผมมิสเตอร์ศักรินทร์\n",
      "คุณลูกค้ามีอะไรให้ผมช่วยมั้ยครับ\n"
     ]
    },
    {
     "name": "stdin",
     "output_type": "stream",
     "text": [
      "จำนวนเงินที่รับมา 4500\n",
      "ราคาสินค้า 1000\n"
     ]
    },
    {
     "name": "stdout",
     "output_type": "stream",
     "text": [
      "-รับเงินสดมา 4500 baths\n",
      "-รับเงินทอน 3500 Baths Thanks You!! \n"
     ]
    }
   ],
   "source": [
    "def sakkarin(hello, shop):\n",
    "    \"\"\"สวัสดีครับผมมิสเตอร์ศักรินทร์\n",
    "คุณลูกค้ามีอะไรให้ผมช่วยมั้ยครับ\"\"\"\n",
    "    hello = int(input(\"จำนวนเงินที่รับมา\"))\n",
    "    shop = int(input(\"ราคาสินค้า\"))\n",
    "    \n",
    "    hi = hello - shop\n",
    "    print(\"-รับเงินสดมา\", hello, \"baths\")\n",
    "    print(\"-รับเงินทอน\", hi,\"Baths Thanks You!! \")\n",
    "    \n",
    "print(sakkarin.__doc__)\n",
    "\n",
    "sakkarin(1,1)"
   ]
  },
  {
   "cell_type": "markdown",
   "id": "fa447202-7a01-403a-b34c-434e4fc12cc8",
   "metadata": {},
   "source": [
    "### การคืนค่าจากฟังก์ชั่น ด้วยคำสั่ง return"
   ]
  },
  {
   "cell_type": "markdown",
   "id": "4e114126-a586-4d47-bad0-cdf7e361eb98",
   "metadata": {
    "tags": []
   },
   "source": [
    "**การ return**"
   ]
  },
  {
   "cell_type": "code",
   "execution_count": 22,
   "id": "c55f24dc-2ae1-494c-966e-fe243994b387",
   "metadata": {
    "tags": []
   },
   "outputs": [
    {
     "name": "stdout",
     "output_type": "stream",
     "text": [
      "5555\n",
      "4\n"
     ]
    }
   ],
   "source": [
    "def absolute_value(num):\n",
    "    \"\"\"ฟังก์ชันนี้จะส่งกลับค่าสัมบูรณ์\n",
    "      ของหมายเลขที่ป้อนเข้ามา\n",
    "      ทางพารามิเตอร์\"\"\"\n",
    "    \n",
    "    if num >= 0:\n",
    "        return num\n",
    "    else:\n",
    "        return -num\n",
    "\n",
    "# ผลลัพธ์: 2\n",
    "print(sakkarin(5555))\n",
    "\n",
    "# ผลลัพธ์: 4\n",
    "print(sakkarin(-4))"
   ]
  },
  {
   "cell_type": "markdown",
   "id": "1f54822e-be97-47f6-8444-47b3155672d3",
   "metadata": {},
   "source": [
    "## ขอบเขต และอายุการใช้งานของตัวแปร\n",
    "\n",
    "**ขอบเขตของตัวแปร** และ\n",
    "**อายุการใช้งานของตัวแปร** "
   ]
  },
  {
   "cell_type": "code",
   "execution_count": 27,
   "id": "76615810-60ef-455c-826d-3e352499b971",
   "metadata": {
    "tags": []
   },
   "outputs": [
    {
     "name": "stdout",
     "output_type": "stream",
     "text": [
      "ค่าของเอกซ์ด้านในเท่ากับ: 10\n",
      "ค่าของเอกซ์ด้านนอกเท่ากับ : 20\n"
     ]
    }
   ],
   "source": [
    "def sakkarin():\n",
    "    x = 10\n",
    "    print(\"ค่าของเอกซ์ด้านในเท่ากับ:\", x)\n",
    "\n",
    "x = 20\n",
    "sakkarin()\n",
    "\n",
    "print(\"ค่าของเอกซ์ด้านนอกเท่ากับ :\", x)"
   ]
  },
  {
   "cell_type": "markdown",
   "id": "fe355e08-7140-40b0-a77e-48036d0bb6d8",
   "metadata": {},
   "source": [
    "### การใช้ global variable"
   ]
  },
  {
   "cell_type": "code",
   "execution_count": 43,
   "id": "0dc6fa50-d675-4cbf-8fe3-9a1dee500ee5",
   "metadata": {
    "tags": []
   },
   "outputs": [
    {
     "name": "stdout",
     "output_type": "stream",
     "text": [
      "ค่าของ Y เท่ากับ :  100\n"
     ]
    }
   ],
   "source": [
    "y = 10\n",
    "\n",
    "def sakkarin(z):\n",
    "    # y คือ global variable\n",
    "    global y\n",
    "    y = z**2                 \n",
    "\n",
    "sakkarin(y)\n",
    "print(\"ค่าของ Y เท่ากับ : \", y)"
   ]
  },
  {
   "cell_type": "markdown",
   "id": "5d2cac9d-a10a-4884-b317-aa817e60ac48",
   "metadata": {},
   "source": [
    "### การใช้ local variable"
   ]
  },
  {
   "cell_type": "code",
   "execution_count": 44,
   "id": "c1241838-94f6-402d-a67f-c3399f7c4a0a",
   "metadata": {
    "tags": []
   },
   "outputs": [
    {
     "name": "stdout",
     "output_type": "stream",
     "text": [
      "เงินของอ้ายซีเหลือ :  8 บาท\n"
     ]
    }
   ],
   "source": [
    "aizee = 8\n",
    "\n",
    "def sakkarin(jiw):\n",
    "    # aizee คือ local variable\n",
    "    aizee = jiw**8\n",
    "    \n",
    "sakkarin(aizee)\n",
    "print(\"เงินของอ้ายซีเหลือ : \",aizee ,\"บาท\")"
   ]
  },
  {
   "cell_type": "markdown",
   "id": "496ad435-b325-4225-ad2e-328c283a02fa",
   "metadata": {},
   "source": [
    "### โปรแกรมคำนวนอายุ"
   ]
  },
  {
   "cell_type": "code",
   "execution_count": 49,
   "id": "ff5d7647-9087-49b0-82a7-57282da33036",
   "metadata": {
    "tags": []
   },
   "outputs": [
    {
     "name": "stdout",
     "output_type": "stream",
     "text": [
      "อายุของคุณคือ :  22 ปี\n"
     ]
    }
   ],
   "source": [
    "# โปรแกรมคำนวนอายุ\n",
    "age = 0\n",
    "def cal_age(birth_year, present_year):\n",
    "    return present_year - birth_year\n",
    "\n",
    "age = cal_age(2000, 2022)\n",
    "print(\"อายุของคุณคือ : \",age, \"ปี\")"
   ]
  },
  {
   "cell_type": "markdown",
   "id": "3ce76f9c-1d7b-471a-907c-272157c2c52e",
   "metadata": {},
   "source": [
    "## การส่งค่าผ่านอาร์กิวเมนต์ (Passing Arguments)\n",
    "\n",
    "จะเกิดขึ้นเฉพาะตัวแปรที่คอมปาว [ ] เท่านั้น แต่จะไม่เกิดขึ้นกับ พรีเมทีพ (int , float)"
   ]
  },
  {
   "cell_type": "markdown",
   "id": "58c2de00-4511-4dbe-9975-424012233959",
   "metadata": {
    "tags": []
   },
   "source": [
    "### ทดลองการส่งผ่านอาร์กิวเมนต์\n",
    "\n",
    "##### การใช้ พาสบาย reference"
   ]
  },
  {
   "cell_type": "code",
   "execution_count": 65,
   "id": "3045377d-b71b-4b67-91ec-e551693f2e36",
   "metadata": {
    "tags": []
   },
   "outputs": [
    {
     "name": "stdout",
     "output_type": "stream",
     "text": [
      "[10, 2, 3, 4]\n"
     ]
    }
   ],
   "source": [
    "def testme(jiw):\n",
    "    jiw[0] = 10\n",
    "\n",
    "aizee = [1,2,3,4]\n",
    "\n",
    "testme(aizee)\n",
    "\n",
    "print(aizee)"
   ]
  },
  {
   "cell_type": "code",
   "execution_count": 67,
   "id": "968ffb71-76c8-4e01-978d-fb2a75b407d8",
   "metadata": {
    "tags": []
   },
   "outputs": [
    {
     "name": "stdout",
     "output_type": "stream",
     "text": [
      "[10, 2, 3, 4]\n",
      "[10, 2, 3, 4]\n"
     ]
    }
   ],
   "source": [
    "a = [1,2,3,4]\n",
    "b = a\n",
    "b[0] = 10\n",
    "\n",
    "print(a)\n",
    "print(b)"
   ]
  },
  {
   "cell_type": "markdown",
   "id": "6a065a22-2262-43dc-8aa0-7a51937b48c0",
   "metadata": {},
   "source": [
    "### การแก้ไม่ให้เกิดการ bypass reference "
   ]
  },
  {
   "cell_type": "code",
   "execution_count": 76,
   "id": "0690a0a7-2c16-4c9e-9263-17ce0ad9d4b1",
   "metadata": {
    "tags": []
   },
   "outputs": [
    {
     "name": "stdout",
     "output_type": "stream",
     "text": [
      "[1, 2, 3, 4]\n",
      "[10, 2, 3, 4]\n"
     ]
    }
   ],
   "source": [
    "import copy\n",
    "a = [1,2,3,4]\n",
    "b = copy.copy(a)\n",
    "b[0] = 10\n",
    "\n",
    "print(a)\n",
    "print(b)"
   ]
  },
  {
   "cell_type": "markdown",
   "id": "2a75b207-fa79-4ce5-9645-0775ae983127",
   "metadata": {},
   "source": [
    "### การบายบาสจะเกิดขึ้นเฉพาะตัวแปรที่คอมปาว [ ] เท่านั้น แต่จะไม่เกิดขึ้นกับ พรีเมทีพ (int , float)"
   ]
  },
  {
   "cell_type": "code",
   "execution_count": 75,
   "id": "75814ad5-c85a-4c7b-899e-2fb35f70b4fb",
   "metadata": {
    "tags": []
   },
   "outputs": [
    {
     "name": "stdout",
     "output_type": "stream",
     "text": [
      "10\n"
     ]
    }
   ],
   "source": [
    "a = 10\n",
    "b = a\n",
    "\n",
    "b += 1 # b = 11 จะเกิดขึ้นเฉพาะตัวแปรที่คอมปาวเท่านั้น แต่จะไม่เกิดขึ้นกับ พรีเมทีพ\n",
    "print(a)"
   ]
  },
  {
   "cell_type": "markdown",
   "id": "b6abb21d-ebc1-470a-b414-803a5a0f0e19",
   "metadata": {},
   "source": [
    "### ตัวอย่าง"
   ]
  },
  {
   "cell_type": "code",
   "execution_count": 52,
   "id": "b54a0b09-99e7-41e3-93a4-73b718f109f4",
   "metadata": {
    "tags": []
   },
   "outputs": [
    {
     "name": "stdout",
     "output_type": "stream",
     "text": [
      "Values inside the function: [10, 20, 30, [1, 2, 3, 4]]\n",
      "Values outside the function: [10, 20, 30, [1, 2, 3, 4]]\n"
     ]
    }
   ],
   "source": [
    "# paramitor จะใช้ในมุมผู้ถูกเรียก รอรับค่าจากภายนอกเข้ามา\n",
    "# Argument จะใช้ในมุมผู้เรียก ใส่ค่าจากภายใน\n",
    "\n",
    "def change_me(lt):\n",
    "    #การเปลี่ยนแปลงนี้ส่งผลสะท้อนออกไปนอกฟังก์ชั่นด้วย\n",
    "    lt.append([1,2,3,4]);\n",
    "    print(\"Values inside the function: {}\".format(lt))\n",
    "\n",
    "mylist = [10,20,30];\n",
    "change_me(mylist);\n",
    "\n",
    "print(\"Values outside the function: {}\".format(mylist))"
   ]
  },
  {
   "cell_type": "code",
   "execution_count": null,
   "id": "38c9543f-fa7c-48e4-b47f-83de7b1faa35",
   "metadata": {},
   "outputs": [],
   "source": []
  }
 ],
 "metadata": {
  "kernelspec": {
   "display_name": "Python 3 (ipykernel)",
   "language": "python",
   "name": "python3"
  },
  "language_info": {
   "codemirror_mode": {
    "name": "ipython",
    "version": 3
   },
   "file_extension": ".py",
   "mimetype": "text/x-python",
   "name": "python",
   "nbconvert_exporter": "python",
   "pygments_lexer": "ipython3",
   "version": "3.11.5"
  }
 },
 "nbformat": 4,
 "nbformat_minor": 5
}
